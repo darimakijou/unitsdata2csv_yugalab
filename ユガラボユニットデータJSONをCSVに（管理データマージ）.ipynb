{
  "nbformat": 4,
  "nbformat_minor": 0,
  "metadata": {
    "colab": {
      "name": "ユガラボユニットデータJSONをCSVに（管理データマージ）",
      "provenance": [],
      "collapsed_sections": [
        "aq3f4p2LVWF-",
        "TtJaB5drhDMo",
        "TIq43A6xjI1N",
        "0NrdCtmU-tl8"
      ]
    },
    "kernelspec": {
      "name": "python3",
      "display_name": "Python 3"
    }
  },
  "cells": [
    {
      "cell_type": "markdown",
      "metadata": {
        "id": "Xg7C6oRECJPX"
      },
      "source": [
        "# **ユガラボさまユニットデータ（unitsdatajson）をcsvに変換して保存**\n"
      ]
    },
    {
      "cell_type": "markdown",
      "metadata": {
        "id": "aq3f4p2LVWF-"
      },
      "source": [
        "ユガラボさまのユニットデータとユニット管理データをマージして、CSV形式でダウンロードします。\n",
        "\n",
        "**注意事項**\n",
        "実行にはGoogleアカウントが必要です。ここ（Google Colaboratory）で作成されたデータはダウンロードしない限り保存されません。\n",
        "\n",
        "Google Driveと連携させることができ、ファイルの読み書きすることもできます。興味のある方は調べてください。"
      ]
    },
    {
      "cell_type": "markdown",
      "metadata": {
        "id": "N9PVLKvACgGn"
      },
      "source": [
        "### **ユニットデータの取得**\n",
        "\n",
        "[ユガラボさま](https://yugalab.net/mrst/units)にアクセスし、「条件検索」タブから「検索」ボタンを押します。使用目的に応じてレアリティや属性、武器種などで絞っても使いやすいです。\n",
        "\n",
        "キーボードのF12キーを押すとデベロッパーツールが開くと思うので、consoleを表示させます。\n",
        "\n",
        "まず以下を貼り付けてEnterキーを押します。\n",
        "```\n",
        "data=unitsdatajson\n",
        "```\n",
        "さらに以下を貼り付けてEnterキーを押します。ユニットデータを保存できます。\n",
        "無事に保存できたら、Dropboxなどのクラウドストレージにアップして共有URLを取得してください。\n",
        "\n",
        "```\n",
        "(function(console){\n",
        " \n",
        "console.save = function(data, filename){\n",
        " \n",
        "    if(!data) {\n",
        "        console.error('Console.save: No data')\n",
        "        return;\n",
        "    } \n",
        "    if(!filename) filename = 'unitsdata.json'\n",
        "    if(typeof data === \"object\"){\n",
        "        data = JSON.stringify(data, undefined, 4)\n",
        "    } \n",
        "    var blob = new Blob([data], {type: 'text/json'}),\n",
        "        e    = document.createEvent('MouseEvents'),\n",
        "        a    = document.createElement('a')\n",
        "    a.download = filename\n",
        "    a.href = window.URL.createObjectURL(blob)\n",
        "    a.dataset.downloadurl =  ['text/json', a.download, a.href].join(':')\n",
        "    e.initMouseEvent('click', true, false, window, 0, 0, 0, 0, 0, false, false, false, false, 0, null)\n",
        "    a.dispatchEvent(e)\n",
        " }\n",
        "})(console)\n",
        " \n",
        "console.save(data,)\n",
        "```\n",
        "**ご注意：この方法でダウンロードできない場合、作者は対応できません。またユガラボ神に問い合わせるのもご遠慮ください（あくまでもわかる方むけの機能です）**\n"
      ]
    },
    {
      "cell_type": "code",
      "metadata": {
        "id": "eMadh-bKdGhS",
        "cellView": "form"
      },
      "source": [
        "#@markdown ### **データのインポート**\n",
        "#@markdown #### ここに上で作成したユニットデータファイル(unitsdatajson)の共有URLを貼り付けます。\n",
        "unitsdata_path = \"https://www.dropbox.com/s/9lhzyahlaxp10y9/20210519_unitsdata_ur.json\" #@param {type:\"string\"}\n",
        "\n",
        "!wget -N -q $unitsdata_path # ファイルをダウンロード\n",
        "# !wget -N -q $userdata_path\n",
        "\n",
        "#パッケージのインストール　ログは無効化\n",
        "!pip install csvkit　> /dev/null\n"
      ],
      "execution_count": null,
      "outputs": []
    },
    {
      "cell_type": "markdown",
      "metadata": {
        "id": "zMPqVlzc3ETu"
      },
      "source": [
        "### **ユニット管理データの取得**\n",
        "[ユガラボさまユニット管理データエクスポート](https://yugalab.net/mrst/add?mode=export)からユニット管理データをコピーします。"
      ]
    },
    {
      "cell_type": "code",
      "metadata": {
        "id": "SsxApc_ph_RT",
        "cellView": "form"
      },
      "source": [
        "#@markdown ### **ユニット管理データの貼り付け**\n",
        "#@markdown 以下に貼り付けます。\n",
        "userdata = \"{\\\"mrstunit_data\\\":{\\\"mrstunit_39329\\\":{\\\"assist\\\":\\\"0\\\"},\\\"mrstunit_30201\\\":{\\\"assist\\\":\\\"0\\\"},\\\"mrstunit_19614\\\":{\\\"assist\\\":\\\"0\\\"},\\\"mrstunit_18874\\\":{\\\"assist\\\":\\\"0\\\"},\\\"mrstunit_23546\\\":{\\\"have\\\":true,\\\"awk\\\":15,\\\"assist\\\":\\\"0\\\"},\\\"mrstunit_6582\\\":{\\\"assist\\\":\\\"0\\\"},\\\"mrstunit_3977\\\":{\\\"assist\\\":\\\"0\\\"},\\\"mrstunit_12014\\\":{\\\"assist\\\":\\\"0\\\"},\\\"mrstunit_26447\\\":{\\\"assist\\\":\\\"0\\\"},\\\"mrstunit_6322\\\":{\\\"assist\\\":\\\"0\\\"},\\\"mrstunit_40575\\\":{\\\"assist\\\":\\\"0\\\"},\\\"mrstunit_15503\\\":{\\\"assist\\\":\\\"0\\\"},\\\"mrstunit_31185\\\":{\\\"have\\\":true,\\\"awk\\\":15,\\\"assist\\\":\\\"0\\\"},\\\"mrstunit_3663\\\":{\\\"assist\\\":\\\"0\\\"},\\\"mrstunit_6499\\\":{\\\"assist\\\":\\\"0\\\"},\\\"mrstunit_20923\\\":{\\\"assist\\\":\\\"0\\\"},\\\"mrstunit_6035\\\":{\\\"have\\\":true,\\\"awk\\\":15,\\\"assist\\\":\\\"0\\\"},\\\"mrstunit_6039\\\":{\\\"assist\\\":\\\"0\\\"},\\\"mrstunit_36788\\\":{\\\"assist\\\":\\\"0\\\"},\\\"mrstunit_6377\\\":{\\\"assist\\\":\\\"0\\\"},\\\"mrstunit_42069\\\":{\\\"assist\\\":\\\"0\\\"},\\\"mrstunit_22730\\\":{\\\"have\\\":true,\\\"awk\\\":15,\\\"assist\\\":\\\"0\\\"},\\\"mrstunit_40903\\\":{\\\"assist\\\":\\\"0\\\"},\\\"mrstunit_15718\\\":{\\\"assist\\\":\\\"0\\\"},\\\"mrstunit_7307\\\":{\\\"assist\\\":\\\"0\\\"},\\\"mrstunit_28429\\\":{\\\"assist\\\":\\\"0\\\"},\\\"mrstunit_18021\\\":{\\\"assist\\\":\\\"0\\\"},\\\"mrstunit_7112\\\":{\\\"have\\\":true,\\\"awk\\\":15,\\\"assist\\\":\\\"0\\\"},\\\"mrstunit_41337\\\":{\\\"have\\\":true,\\\"awk\\\":15,\\\"assist\\\":\\\"0\\\"},\\\"mrstunit_22662\\\":{\\\"assist\\\":\\\"0\\\"},\\\"mrstunit_35963\\\":{\\\"assist\\\":\\\"0\\\"},\\\"mrstunit_17973\\\":{\\\"assist\\\":\\\"0\\\"},\\\"mrstunit_6123\\\":{\\\"have\\\":true,\\\"awk\\\":15,\\\"assist\\\":\\\"0\\\"},\\\"mrstunit_26237\\\":{\\\"assist\\\":\\\"0\\\"},\\\"mrstunit_17971\\\":{\\\"assist\\\":\\\"0\\\"},\\\"mrstunit_41732\\\":{\\\"have\\\":true,\\\"awk\\\":15,\\\"assist\\\":\\\"0\\\"},\\\"mrstunit_31648\\\":{\\\"assist\\\":\\\"0\\\"},\\\"mrstunit_24688\\\":{\\\"assist\\\":\\\"0\\\"},\\\"mrstunit_30731\\\":{\\\"assist\\\":\\\"0\\\"},\\\"mrstunit_18542\\\":{\\\"assist\\\":\\\"0\\\"},\\\"mrstunit_37042\\\":{\\\"assist\\\":\\\"0\\\"},\\\"mrstunit_33394\\\":{\\\"assist\\\":\\\"0\\\"},\\\"mrstunit_41374\\\":{\\\"assist\\\":\\\"0\\\"},\\\"mrstunit_39852\\\":{\\\"assist\\\":\\\"0\\\"},\\\"mrstunit_6126\\\":{\\\"assist\\\":\\\"0\\\"},\\\"mrstunit_23356\\\":{\\\"assist\\\":\\\"0\\\"},\\\"mrstunit_5848\\\":{\\\"assist\\\":\\\"0\\\"},\\\"mrstunit_38419\\\":{\\\"assist\\\":\\\"0\\\"},\\\"mrstunit_4509\\\":{\\\"assist\\\":\\\"0\\\"},\\\"mrstunit_23129\\\":{\\\"assist\\\":\\\"0\\\"},\\\"mrstunit_7308\\\":{\\\"assist\\\":\\\"0\\\"},\\\"mrstunit_9881\\\":{\\\"assist\\\":\\\"0\\\"},\\\"mrstunit_17725\\\":{\\\"assist\\\":\\\"0\\\"},\\\"mrstunit_22233\\\":{\\\"assist\\\":\\\"0\\\"},\\\"mrstunit_16675\\\":{\\\"assist\\\":\\\"0\\\"},\\\"mrstunit_12879\\\":{\\\"assist\\\":\\\"0\\\"},\\\"mrstunit_7303\\\":{\\\"have\\\":true,\\\"awk\\\":15,\\\"assist\\\":\\\"0\\\"},\\\"mrstunit_34563\\\":{\\\"assist\\\":\\\"0\\\"},\\\"mrstunit_33786\\\":{\\\"assist\\\":\\\"0\\\"},\\\"mrstunit_5938\\\":{\\\"assist\\\":\\\"0\\\"},\\\"mrstunit_18029\\\":{\\\"assist\\\":\\\"0\\\"},\\\"mrstunit_38629\\\":{\\\"assist\\\":\\\"0\\\"},\\\"mrstunit_16386\\\":{\\\"assist\\\":\\\"0\\\"},\\\"mrstunit_4172\\\":{\\\"assist\\\":\\\"0\\\"},\\\"mrstunit_29763\\\":{\\\"assist\\\":\\\"0\\\"},\\\"mrstunit_30786\\\":{\\\"have\\\":true,\\\"awk\\\":15,\\\"assist\\\":\\\"0\\\"},\\\"mrstunit_20588\\\":{\\\"assist\\\":\\\"0\\\"},\\\"mrstunit_24862\\\":{\\\"assist\\\":\\\"0\\\"},\\\"mrstunit_12809\\\":{\\\"assist\\\":\\\"0\\\"},\\\"mrstunit_34771\\\":{\\\"assist\\\":\\\"0\\\"},\\\"mrstunit_27326\\\":{\\\"assist\\\":\\\"0\\\"},\\\"mrstunit_17949\\\":{\\\"assist\\\":\\\"0\\\"},\\\"mrstunit_18290\\\":{\\\"assist\\\":\\\"0\\\"},\\\"mrstunit_32093\\\":{\\\"assist\\\":\\\"0\\\"},\\\"mrstunit_8740\\\":{\\\"assist\\\":\\\"0\\\"},\\\"mrstunit_25306\\\":{\\\"assist\\\":\\\"0\\\"},\\\"mrstunit_20128\\\":{\\\"assist\\\":\\\"0\\\"},\\\"mrstunit_20213\\\":{\\\"assist\\\":\\\"0\\\"},\\\"mrstunit_6338\\\":{\\\"assist\\\":\\\"0\\\"},\\\"mrstunit_17969\\\":{\\\"assist\\\":\\\"0\\\"},\\\"mrstunit_30516\\\":{\\\"assist\\\":\\\"0\\\"},\\\"mrstunit_38809\\\":{\\\"assist\\\":\\\"0\\\"},\\\"mrstunit_18388\\\":{\\\"assist\\\":\\\"0\\\"},\\\"mrstunit_18055\\\":{\\\"assist\\\":\\\"0\\\"},\\\"mrstunit_22104\\\":{\\\"have\\\":true,\\\"awk\\\":15,\\\"assist\\\":\\\"0\\\"},\\\"mrstunit_6440\\\":{\\\"assist\\\":\\\"0\\\"},\\\"mrstunit_25673\\\":{\\\"assist\\\":\\\"0\\\"},\\\"mrstunit_36175\\\":{\\\"assist\\\":\\\"0\\\"},\\\"mrstunit_3722\\\":{\\\"assist\\\":\\\"0\\\"},\\\"mrstunit_25474\\\":{\\\"assist\\\":\\\"0\\\"},\\\"mrstunit_13860\\\":{\\\"assist\\\":\\\"0\\\"},\\\"mrstunit_8391\\\":{\\\"assist\\\":\\\"0\\\"},\\\"mrstunit_40128\\\":{\\\"assist\\\":\\\"0\\\"},\\\"mrstunit_28771\\\":{\\\"assist\\\":\\\"0\\\"},\\\"mrstunit_6506\\\":{\\\"assist\\\":\\\"0\\\"},\\\"mrstunit_6288\\\":{\\\"assist\\\":\\\"0\\\"},\\\"mrstunit_10155\\\":{\\\"assist\\\":\\\"0\\\"},\\\"mrstunit_6387\\\":{\\\"assist\\\":\\\"0\\\"},\\\"mrstunit_40564\\\":{\\\"assist\\\":\\\"0\\\"},\\\"mrstunit_35284\\\":{\\\"assist\\\":\\\"0\\\"},\\\"mrstunit_31038\\\":{\\\"assist\\\":\\\"0\\\"},\\\"mrstunit_18025\\\":{\\\"assist\\\":\\\"0\\\"},\\\"mrstunit_32809\\\":{\\\"assist\\\":\\\"0\\\"},\\\"mrstunit_12438\\\":{\\\"assist\\\":\\\"0\\\"},\\\"mrstunit_18027\\\":{\\\"assist\\\":\\\"0\\\"},\\\"mrstunit_40436\\\":{\\\"assist\\\":\\\"0\\\"},\\\"mrstunit_21286\\\":{\\\"assist\\\":\\\"0\\\"},\\\"mrstunit_18035\\\":{\\\"assist\\\":\\\"0\\\"},\\\"mrstunit_36947\\\":{\\\"assist\\\":\\\"0\\\"},\\\"mrstunit_6603\\\":{\\\"assist\\\":\\\"0\\\"},\\\"mrstunit_39024\\\":{\\\"assist\\\":\\\"0\\\"},\\\"mrstunit_22533\\\":{\\\"assist\\\":\\\"0\\\"},\\\"mrstunit_14865\\\":{\\\"assist\\\":\\\"0\\\"},\\\"mrstunit_35173\\\":{\\\"assist\\\":\\\"0\\\"},\\\"mrstunit_6214\\\":{\\\"assist\\\":\\\"0\\\"},\\\"mrstunit_6282\\\":{\\\"assist\\\":\\\"0\\\"},\\\"mrstunit_21170\\\":{\\\"assist\\\":\\\"0\\\"},\\\"mrstunit_31259\\\":{\\\"assist\\\":\\\"0\\\"},\\\"mrstunit_27608\\\":{\\\"assist\\\":\\\"0\\\"},\\\"mrstunit_20555\\\":{\\\"have\\\":true,\\\"awk\\\":15,\\\"assist\\\":\\\"0\\\"},\\\"mrstunit_10388\\\":{\\\"assist\\\":\\\"0\\\"},\\\"mrstunit_7306\\\":{\\\"assist\\\":\\\"0\\\"},\\\"mrstunit_42222\\\":{\\\"have\\\":true,\\\"awk\\\":15,\\\"assist\\\":\\\"0\\\"},\\\"mrstunit_6217\\\":{\\\"have\\\":true,\\\"awk\\\":15,\\\"assist\\\":\\\"0\\\"},\\\"mrstunit_33046\\\":{\\\"assist\\\":\\\"0\\\"},\\\"mrstunit_37298\\\":{\\\"assist\\\":\\\"0\\\"},\\\"mrstunit_26635\\\":{\\\"assist\\\":\\\"0\\\"},\\\"mrstunit_29593\\\":{\\\"assist\\\":\\\"0\\\"},\\\"mrstunit_7388\\\":{\\\"assist\\\":\\\"0\\\"},\\\"mrstunit_37762\\\":{\\\"assist\\\":\\\"0\\\"},\\\"mrstunit_39528\\\":{\\\"assist\\\":\\\"0\\\"},\\\"mrstunit_41058\\\":{\\\"assist\\\":\\\"0\\\"},\\\"mrstunit_6172\\\":{\\\"assist\\\":\\\"0\\\"},\\\"mrstunit_42144\\\":{\\\"have\\\":true,\\\"awk\\\":15,\\\"assist\\\":\\\"0\\\"},\\\"mrstunit_19372\\\":{\\\"assist\\\":\\\"0\\\"},\\\"mrstunit_21290\\\":{\\\"assist\\\":\\\"0\\\"},\\\"mrstunit_34394\\\":{\\\"assist\\\":\\\"0\\\"},\\\"mrstunit_42670\\\":{\\\"have\\\":true,\\\"awk\\\":15,\\\"assist\\\":\\\"0\\\"},\\\"mrstunit_30371\\\":{\\\"assist\\\":\\\"0\\\"},\\\"mrstunit_18023\\\":{\\\"assist\\\":\\\"0\\\"},\\\"mrstunit_38429\\\":{\\\"assist\\\":\\\"0\\\"},\\\"mrstunit_36424\\\":{\\\"assist\\\":\\\"0\\\"},\\\"mrstunit_7280\\\":{\\\"have\\\":true,\\\"awk\\\":15,\\\"assist\\\":\\\"0\\\"},\\\"mrstunit_33535\\\":{\\\"assist\\\":\\\"0\\\"},\\\"mrstunit_29959\\\":{\\\"assist\\\":\\\"0\\\"},\\\"mrstunit_11423\\\":{\\\"assist\\\":\\\"0\\\"},\\\"mrstunit_25918\\\":{\\\"assist\\\":\\\"0\\\"},\\\"mrstunit_32139\\\":{\\\"assist\\\":\\\"0\\\"},\\\"mrstunit_18045\\\":{\\\"assist\\\":\\\"0\\\"},\\\"mrstunit_14521\\\":{\\\"assist\\\":\\\"0\\\"},\\\"mrstunit_10830\\\":{\\\"assist\\\":\\\"0\\\"},\\\"mrstunit_42852\\\":{\\\"assist\\\":\\\"0\\\"},\\\"mrstunit_42293\\\":{\\\"have\\\":true,\\\"awk\\\":15,\\\"assist\\\":\\\"0\\\"},\\\"mrstunit_23221\\\":{\\\"assist\\\":\\\"0\\\"},\\\"mrstunit_7300\\\":{\\\"assist\\\":\\\"0\\\"},\\\"mrstunit_33340\\\":{\\\"assist\\\":\\\"0\\\"},\\\"mrstunit_7164\\\":{\\\"assist\\\":\\\"0\\\"},\\\"mrstunit_36545\\\":{\\\"assist\\\":\\\"0\\\"},\\\"mrstunit_7113\\\":{\\\"assist\\\":\\\"0\\\"},\\\"mrstunit_23983\\\":{\\\"assist\\\":\\\"0\\\"},\\\"mrstunit_29083\\\":{\\\"assist\\\":\\\"0\\\"},\\\"mrstunit_6263\\\":{\\\"assist\\\":\\\"0\\\"},\\\"mrstunit_18009\\\":{\\\"assist\\\":\\\"0\\\"},\\\"mrstunit_38198\\\":{\\\"assist\\\":\\\"0\\\"},\\\"mrstunit_6450\\\":{\\\"assist\\\":\\\"0\\\"},\\\"mrstunit_31884\\\":{\\\"assist\\\":\\\"0\\\"},\\\"mrstunit_6369\\\":{\\\"assist\\\":\\\"0\\\"},\\\"mrstunit_40375\\\":{\\\"assist\\\":\\\"0\\\"},\\\"mrstunit_37436\\\":{\\\"have\\\":true,\\\"awk\\\":15,\\\"assist\\\":\\\"0\\\"},\\\"mrstunit_29538\\\":{\\\"assist\\\":\\\"0\\\"},\\\"mrstunit_39684\\\":{\\\"assist\\\":\\\"0\\\"},\\\"mrstunit_14597\\\":{\\\"assist\\\":\\\"0\\\"},\\\"mrstunit_19217\\\":{\\\"assist\\\":\\\"0\\\"},\\\"mrstunit_7267\\\":{\\\"assist\\\":\\\"0\\\"},\\\"mrstunit_42753\\\":{\\\"have\\\":true,\\\"awk\\\":15,\\\"assist\\\":\\\"0\\\"},\\\"mrstunit_21704\\\":{\\\"assist\\\":\\\"0\\\"},\\\"mrstunit_32652\\\":{\\\"assist\\\":\\\"0\\\"},\\\"mrstunit_6200\\\":{\\\"assist\\\":\\\"0\\\"},\\\"mrstunit_27849\\\":{\\\"assist\\\":\\\"0\\\"},\\\"mrstunit_10606\\\":{\\\"assist\\\":\\\"0\\\"},\\\"mrstunit_41219\\\":{\\\"assist\\\":\\\"0\\\"},\\\"mrstunit_7302\\\":{\\\"assist\\\":\\\"0\\\"},\\\"mrstunit_6326\\\":{\\\"assist\\\":\\\"0\\\"},\\\"mrstunit_6563\\\":{\\\"assist\\\":\\\"0\\\"},\\\"mrstunit_36949\\\":{\\\"assist\\\":\\\"0\\\"},\\\"mrstunit_22900\\\":{\\\"assist\\\":\\\"0\\\"},\\\"mrstunit_27158\\\":{\\\"assist\\\":\\\"0\\\"},\\\"mrstunit_28295\\\":{\\\"assist\\\":\\\"0\\\"},\\\"mrstunit_22795\\\":{\\\"assist\\\":\\\"0\\\"},\\\"mrstunit_30034\\\":{\\\"assist\\\":\\\"0\\\"},\\\"mrstunit_33267\\\":{\\\"assist\\\":\\\"0\\\"},\\\"mrstunit_14024\\\":{\\\"assist\\\":\\\"0\\\"},\\\"mrstunit_41608\\\":{\\\"have\\\":true,\\\"awk\\\":15,\\\"assist\\\":\\\"0\\\"},\\\"mrstunit_9282\\\":{\\\"assist\\\":\\\"0\\\"},\\\"mrstunit_17413\\\":{\\\"assist\\\":\\\"0\\\"},\\\"mrstunit_32318\\\":{\\\"have\\\":true,\\\"awk\\\":15,\\\"assist\\\":\\\"0\\\"},\\\"mrstunit_30138\\\":{\\\"assist\\\":\\\"0\\\"},\\\"mrstunit_32922\\\":{\\\"assist\\\":\\\"0\\\"},\\\"mrstunit_6502\\\":{\\\"assist\\\":\\\"0\\\"},\\\"mrstunit_32555\\\":{\\\"assist\\\":\\\"0\\\"},\\\"mrstunit_23869\\\":{\\\"assist\\\":\\\"0\\\"},\\\"mrstunit_16032\\\":{\\\"assist\\\":\\\"0\\\"},\\\"mrstunit_6203\\\":{\\\"assist\\\":\\\"0\\\"},\\\"mrstunit_35265\\\":{\\\"assist\\\":\\\"0\\\"},\\\"mrstunit_18455\\\":{\\\"assist\\\":\\\"0\\\"},\\\"mrstunit_28099\\\":{\\\"assist\\\":\\\"0\\\"},\\\"mrstunit_19014\\\":{\\\"assist\\\":\\\"0\\\"},\\\"mrstunit_20428\\\":{\\\"assist\\\":\\\"0\\\"},\\\"mrstunit_34074\\\":{\\\"assist\\\":\\\"0\\\"},\\\"mrstunit_15253\\\":{\\\"assist\\\":\\\"0\\\"},\\\"mrstunit_5578\\\":{\\\"assist\\\":\\\"0\\\"},\\\"mrstunit_36312\\\":{\\\"assist\\\":\\\"0\\\"},\\\"mrstunit_6179\\\":{\\\"assist\\\":\\\"0\\\"},\\\"mrstunit_7301\\\":{\\\"have\\\":true,\\\"awk\\\":15,\\\"assist\\\":\\\"0\\\"},\\\"mrstunit_42941\\\":{\\\"have\\\":true,\\\"awk\\\":15,\\\"assist\\\":\\\"0\\\"},\\\"mrstunit_21054\\\":{\\\"assist\\\":\\\"0\\\"},\\\"mrstunit_7305\\\":{\\\"assist\\\":\\\"0\\\"},\\\"mrstunit_7146\\\":{\\\"assist\\\":\\\"0\\\"},\\\"mrstunit_42819\\\":{\\\"assist\\\":\\\"0\\\"},\\\"mrstunit_21621\\\":{\\\"assist\\\":\\\"0\\\"},\\\"mrstunit_36167\\\":{\\\"assist\\\":\\\"0\\\"},\\\"mrstunit_6079\\\":{\\\"assist\\\":\\\"0\\\"},\\\"mrstunit_42523\\\":{\\\"have\\\":true,\\\"awk\\\":15,\\\"assist\\\":\\\"0\\\"},\\\"mrstunit_41826\\\":{\\\"have\\\":true,\\\"awk\\\":15,\\\"assist\\\":\\\"0\\\"},\\\"mrstunit_9930\\\":{\\\"assist\\\":\\\"0\\\"},\\\"mrstunit_5170\\\":{\\\"assist\\\":\\\"0\\\"},\\\"mrstunit_38258\\\":{\\\"have\\\":true,\\\"awk\\\":15,\\\"assist\\\":\\\"0\\\"},\\\"mrstunit_7169\\\":{\\\"assist\\\":\\\"0\\\"},\\\"mrstunit_20018\\\":{\\\"assist\\\":\\\"0\\\"},\\\"mrstunit_3874\\\":{\\\"have\\\":true,\\\"awk\\\":15,\\\"assist\\\":\\\"0\\\"},\\\"mrstunit_5852\\\":{\\\"assist\\\":\\\"0\\\"},\\\"mrstunit_3740\\\":{\\\"assist\\\":\\\"0\\\"},\\\"mrstunit_14985\\\":{\\\"assist\\\":\\\"0\\\"},\\\"mrstunit_9572\\\":{\\\"assist\\\":\\\"0\\\"},\\\"mrstunit_40739\\\":{\\\"assist\\\":\\\"0\\\"},\\\"mrstunit_18017\\\":{\\\"assist\\\":\\\"0\\\"},\\\"mrstunit_5857\\\":{\\\"have\\\":true,\\\"awk\\\":15,\\\"assist\\\":\\\"0\\\"},\\\"mrstunit_6089\\\":{\\\"assist\\\":\\\"0\\\"},\\\"mrstunit_6175\\\":{\\\"assist\\\":\\\"0\\\"},\\\"mrstunit_9056\\\":{\\\"assist\\\":\\\"0\\\"},\\\"mrstunit_35997\\\":{\\\"assist\\\":\\\"0\\\"},\\\"mrstunit_18019\\\":{\\\"assist\\\":\\\"0\\\"},\\\"mrstunit_26801\\\":{\\\"have\\\":true,\\\"awk\\\":15,\\\"assist\\\":\\\"0\\\"},\\\"mrstunit_35680\\\":{\\\"assist\\\":\\\"0\\\"},\\\"mrstunit_39251\\\":{\\\"assist\\\":\\\"0\\\"},\\\"mrstunit_11215\\\":{\\\"assist\\\":\\\"0\\\"},\\\"mrstunit_16671\\\":{\\\"assist\\\":\\\"0\\\"},\\\"mrstunit_18087\\\":{\\\"assist\\\":\\\"0\\\"},\\\"mrstunit_28889\\\":{\\\"assist\\\":\\\"0\\\"}}}\" #@param {type:\"string\"}\n",
        "\n",
        "#ファイルからデータを読み込み\n",
        "import pandas as pd\n",
        "import json, os, pathlib, urllib.parse\n",
        "\n",
        "# unitsdata, userdata = os.path.basename(unitsdata_path), os.path.basename(userdata_path) # ファイル名を取得\n",
        "unitsdata = os.path.basename(unitsdata_path)# ファイル名を取得\n",
        "filename = os.path.splitext(unitsdata)[0]\n",
        "unitsdatacsv = os.path.splitext(unitsdata)[0] + \".csv\"\n",
        "\n",
        "# unitsdatajsonから計算に利用する要素を抽出してDataFrameを作成\n",
        "unitsdataobj = pd.read_json(unitsdata,orient='records')\n",
        "unitsdataobj = unitsdataobj.transpose()\n",
        "\n",
        "# userdatajsonは読み込みに一工夫\n",
        "json_open = userdata\n",
        "d = json.loads(json_open)\n",
        "d_target = d['mrstunit_data']\n",
        "s_target = json.dumps(d_target)\n",
        "\n",
        "# ユーザーIDに文字列が付いているので数値のみid列を追加\n",
        "userdataobj = pd.read_json(s_target).transpose()\n",
        "userdataobj['id'] = userdataobj.index\n",
        "userdataobj['id'] = userdataobj['id'].map(lambda x: int(x[9:]))\n",
        "\n",
        "# unitsdataとuserdataをidを利用してマージ\n",
        "unitsdata_merge = unitsdataobj.merge(userdataobj, left_on=\"id\", right_on=\"id\")\n",
        "\n",
        "# NaNをすべて0に\n",
        "unitsdata_merge = unitsdata_merge.fillna(0)\n"
      ],
      "execution_count": null,
      "outputs": []
    },
    {
      "cell_type": "code",
      "metadata": {
        "colab": {
          "base_uri": "https://localhost:8080/",
          "height": 17
        },
        "id": "xWae3J7lhu5p",
        "cellView": "form",
        "outputId": "7e673502-be47-4420-8101-25d6d7ba729f"
      },
      "source": [
        "#@markdown ### **管理データマージ後のcsv保存とダウンロード**\n",
        "#@markdown このページ上部の[ランタイム]>[すべてのセルを実行]を選択すると処理が始まり、csvファイルをダウンロードできます。\n",
        "from google.colab import files\n",
        "unitsdata_have = filename + \"_have.csv\"\n",
        "unitsdata_merge.to_csv(path_or_buf=unitsdata_have,encoding=\"shiftjis\",index=False) \n",
        "files.download(unitsdata_have)"
      ],
      "execution_count": null,
      "outputs": [
        {
          "output_type": "display_data",
          "data": {
            "application/javascript": [
              "\n",
              "    async function download(id, filename, size) {\n",
              "      if (!google.colab.kernel.accessAllowed) {\n",
              "        return;\n",
              "      }\n",
              "      const div = document.createElement('div');\n",
              "      const label = document.createElement('label');\n",
              "      label.textContent = `Downloading \"${filename}\": `;\n",
              "      div.appendChild(label);\n",
              "      const progress = document.createElement('progress');\n",
              "      progress.max = size;\n",
              "      div.appendChild(progress);\n",
              "      document.body.appendChild(div);\n",
              "\n",
              "      const buffers = [];\n",
              "      let downloaded = 0;\n",
              "\n",
              "      const channel = await google.colab.kernel.comms.open(id);\n",
              "      // Send a message to notify the kernel that we're ready.\n",
              "      channel.send({})\n",
              "\n",
              "      for await (const message of channel.messages) {\n",
              "        // Send a message to notify the kernel that we're ready.\n",
              "        channel.send({})\n",
              "        if (message.buffers) {\n",
              "          for (const buffer of message.buffers) {\n",
              "            buffers.push(buffer);\n",
              "            downloaded += buffer.byteLength;\n",
              "            progress.value = downloaded;\n",
              "          }\n",
              "        }\n",
              "      }\n",
              "      const blob = new Blob(buffers, {type: 'application/binary'});\n",
              "      const a = document.createElement('a');\n",
              "      a.href = window.URL.createObjectURL(blob);\n",
              "      a.download = filename;\n",
              "      div.appendChild(a);\n",
              "      a.click();\n",
              "      div.remove();\n",
              "    }\n",
              "  "
            ],
            "text/plain": [
              "<IPython.core.display.Javascript object>"
            ]
          },
          "metadata": {
            "tags": []
          }
        },
        {
          "output_type": "display_data",
          "data": {
            "application/javascript": [
              "download(\"download_18af2a85-fc2b-418a-897a-214fe7ccf59f\", \"20210530_dark_have.csv\", 44680)"
            ],
            "text/plain": [
              "<IPython.core.display.Javascript object>"
            ]
          },
          "metadata": {
            "tags": []
          }
        }
      ]
    }
  ]
}